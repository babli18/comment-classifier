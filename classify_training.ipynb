{
 "cells": [
  {
   "cell_type": "code",
   "execution_count": 2,
   "id": "c7e51e44",
   "metadata": {},
   "outputs": [],
   "source": [
    "import pandas as pd\n",
    "import matplotlib.pyplot as plt\n",
    "import seaborn as sns"
   ]
  },
  {
   "cell_type": "code",
   "execution_count": 3,
   "id": "58dfc1f4",
   "metadata": {},
   "outputs": [],
   "source": [
    "df = pd.read_csv('results/lang_detected.csv')"
   ]
  },
  {
   "cell_type": "code",
   "execution_count": 4,
   "id": "191ec376",
   "metadata": {},
   "outputs": [
    {
     "data": {
      "text/plain": [
       "(122804, 6)"
      ]
     },
     "execution_count": 4,
     "metadata": {},
     "output_type": "execute_result"
    }
   ],
   "source": [
    "df.shape"
   ]
  },
  {
   "cell_type": "code",
   "execution_count": 5,
   "id": "deeec78a",
   "metadata": {},
   "outputs": [
    {
     "name": "stderr",
     "output_type": "stream",
     "text": [
      "[nltk_data] Downloading package stopwords to C:\\Users\\Babli\n",
      "[nltk_data]     Dey\\AppData\\Roaming\\nltk_data...\n",
      "[nltk_data]   Package stopwords is already up-to-date!\n",
      "[nltk_data] Downloading package punkt to C:\\Users\\Babli\n",
      "[nltk_data]     Dey\\AppData\\Roaming\\nltk_data...\n",
      "[nltk_data]   Package punkt is already up-to-date!\n",
      "[nltk_data] Downloading package wordnet to C:\\Users\\Babli\n",
      "[nltk_data]     Dey\\AppData\\Roaming\\nltk_data...\n",
      "[nltk_data]   Package wordnet is already up-to-date!\n"
     ]
    },
    {
     "data": {
      "text/html": [
       "<div>\n",
       "<style scoped>\n",
       "    .dataframe tbody tr th:only-of-type {\n",
       "        vertical-align: middle;\n",
       "    }\n",
       "\n",
       "    .dataframe tbody tr th {\n",
       "        vertical-align: top;\n",
       "    }\n",
       "\n",
       "    .dataframe thead th {\n",
       "        text-align: right;\n",
       "    }\n",
       "</style>\n",
       "<table border=\"1\" class=\"dataframe\">\n",
       "  <thead>\n",
       "    <tr style=\"text-align: right;\">\n",
       "      <th></th>\n",
       "      <th>reviewId</th>\n",
       "      <th>comment</th>\n",
       "      <th>score</th>\n",
       "      <th>date</th>\n",
       "      <th>cleaned_text</th>\n",
       "      <th>english</th>\n",
       "    </tr>\n",
       "  </thead>\n",
       "  <tbody>\n",
       "    <tr>\n",
       "      <th>0</th>\n",
       "      <td>f1e2a08a-5c36-427f-9574-2d2c2f2d4a72</td>\n",
       "      <td>fornikite with no colombus wind daphnee</td>\n",
       "      <td>5</td>\n",
       "      <td>2025-01-03 15:21:55</td>\n",
       "      <td>fornikite colombus wind daphnee</td>\n",
       "      <td>True</td>\n",
       "    </tr>\n",
       "    <tr>\n",
       "      <th>1</th>\n",
       "      <td>8255ef9d-52ab-4981-ad59-ff869650f60e</td>\n",
       "      <td>Adds popping up during movies</td>\n",
       "      <td>1</td>\n",
       "      <td>2025-01-03 15:16:01</td>\n",
       "      <td>add popping movie</td>\n",
       "      <td>True</td>\n",
       "    </tr>\n",
       "    <tr>\n",
       "      <th>2</th>\n",
       "      <td>6e26402d-b74f-41df-b9a4-7a92a6a76271</td>\n",
       "      <td>App will not open on Amazon Fire Tablet. I can...</td>\n",
       "      <td>1</td>\n",
       "      <td>2025-01-03 15:10:25</td>\n",
       "      <td>app open amazon fire tablet click profile app ...</td>\n",
       "      <td>True</td>\n",
       "    </tr>\n",
       "    <tr>\n",
       "      <th>3</th>\n",
       "      <td>dfe9f50c-5a61-4a40-a32a-8a3e5729f660</td>\n",
       "      <td>I haven't been able to use Netflix on my Googl...</td>\n",
       "      <td>1</td>\n",
       "      <td>2025-01-03 14:54:07</td>\n",
       "      <td>havent able use netflix google pixel pro since...</td>\n",
       "      <td>True</td>\n",
       "    </tr>\n",
       "    <tr>\n",
       "      <th>4</th>\n",
       "      <td>f748736b-3628-4fb4-87d0-a9300d532ba7</td>\n",
       "      <td>Netflix is my favourite streaming platform, ma...</td>\n",
       "      <td>5</td>\n",
       "      <td>2025-01-03 14:49:23</td>\n",
       "      <td>netflix favourite streaming platform mainly fo...</td>\n",
       "      <td>True</td>\n",
       "    </tr>\n",
       "    <tr>\n",
       "      <th>...</th>\n",
       "      <td>...</td>\n",
       "      <td>...</td>\n",
       "      <td>...</td>\n",
       "      <td>...</td>\n",
       "      <td>...</td>\n",
       "      <td>...</td>\n",
       "    </tr>\n",
       "    <tr>\n",
       "      <th>116372</th>\n",
       "      <td>a760ead9-e7aa-4ed1-a651-5c37c3600dac</td>\n",
       "      <td>i really like it! there are so many movies and...</td>\n",
       "      <td>5</td>\n",
       "      <td>2019-08-03 15:06:03</td>\n",
       "      <td>really like many movie kdramas watch</td>\n",
       "      <td>True</td>\n",
       "    </tr>\n",
       "    <tr>\n",
       "      <th>116373</th>\n",
       "      <td>4957f9e7-d7f4-4a52-9764-031cebcac83f</td>\n",
       "      <td>I love Netflix. I always enjoy my time using it.</td>\n",
       "      <td>5</td>\n",
       "      <td>2022-08-15 16:16:30</td>\n",
       "      <td>love netflix always enjoy time using</td>\n",
       "      <td>True</td>\n",
       "    </tr>\n",
       "    <tr>\n",
       "      <th>116374</th>\n",
       "      <td>9acf7586-7abf-4b50-8c50-3ede3b2a42c4</td>\n",
       "      <td>Sound quality is very slow of movies</td>\n",
       "      <td>1</td>\n",
       "      <td>2020-08-17 07:26:58</td>\n",
       "      <td>sound quality slow movie</td>\n",
       "      <td>True</td>\n",
       "    </tr>\n",
       "    <tr>\n",
       "      <th>116375</th>\n",
       "      <td>32870f7f-c461-4256-b602-75244ca60248</td>\n",
       "      <td>Rate is very expensive.. bcos we see netflix s...</td>\n",
       "      <td>1</td>\n",
       "      <td>2019-07-21 09:41:42</td>\n",
       "      <td>rate expensive bcos see netflix sunday charged...</td>\n",
       "      <td>True</td>\n",
       "    </tr>\n",
       "    <tr>\n",
       "      <th>116376</th>\n",
       "      <td>dc1352e9-10a8-41ca-ab23-05d045b08e90</td>\n",
       "      <td>this app is awesome for english movies ,series...</td>\n",
       "      <td>4</td>\n",
       "      <td>2020-05-24 11:04:08</td>\n",
       "      <td>app awesome english movie series tv show</td>\n",
       "      <td>True</td>\n",
       "    </tr>\n",
       "  </tbody>\n",
       "</table>\n",
       "<p>116377 rows × 6 columns</p>\n",
       "</div>"
      ],
      "text/plain": [
       "                                    reviewId  \\\n",
       "0       f1e2a08a-5c36-427f-9574-2d2c2f2d4a72   \n",
       "1       8255ef9d-52ab-4981-ad59-ff869650f60e   \n",
       "2       6e26402d-b74f-41df-b9a4-7a92a6a76271   \n",
       "3       dfe9f50c-5a61-4a40-a32a-8a3e5729f660   \n",
       "4       f748736b-3628-4fb4-87d0-a9300d532ba7   \n",
       "...                                      ...   \n",
       "116372  a760ead9-e7aa-4ed1-a651-5c37c3600dac   \n",
       "116373  4957f9e7-d7f4-4a52-9764-031cebcac83f   \n",
       "116374  9acf7586-7abf-4b50-8c50-3ede3b2a42c4   \n",
       "116375  32870f7f-c461-4256-b602-75244ca60248   \n",
       "116376  dc1352e9-10a8-41ca-ab23-05d045b08e90   \n",
       "\n",
       "                                                  comment  score  \\\n",
       "0                 fornikite with no colombus wind daphnee      5   \n",
       "1                           Adds popping up during movies      1   \n",
       "2       App will not open on Amazon Fire Tablet. I can...      1   \n",
       "3       I haven't been able to use Netflix on my Googl...      1   \n",
       "4       Netflix is my favourite streaming platform, ma...      5   \n",
       "...                                                   ...    ...   \n",
       "116372  i really like it! there are so many movies and...      5   \n",
       "116373   I love Netflix. I always enjoy my time using it.      5   \n",
       "116374               Sound quality is very slow of movies      1   \n",
       "116375  Rate is very expensive.. bcos we see netflix s...      1   \n",
       "116376  this app is awesome for english movies ,series...      4   \n",
       "\n",
       "                       date  \\\n",
       "0       2025-01-03 15:21:55   \n",
       "1       2025-01-03 15:16:01   \n",
       "2       2025-01-03 15:10:25   \n",
       "3       2025-01-03 14:54:07   \n",
       "4       2025-01-03 14:49:23   \n",
       "...                     ...   \n",
       "116372  2019-08-03 15:06:03   \n",
       "116373  2022-08-15 16:16:30   \n",
       "116374  2020-08-17 07:26:58   \n",
       "116375  2019-07-21 09:41:42   \n",
       "116376  2020-05-24 11:04:08   \n",
       "\n",
       "                                             cleaned_text  english  \n",
       "0                         fornikite colombus wind daphnee     True  \n",
       "1                                       add popping movie     True  \n",
       "2       app open amazon fire tablet click profile app ...     True  \n",
       "3       havent able use netflix google pixel pro since...     True  \n",
       "4       netflix favourite streaming platform mainly fo...     True  \n",
       "...                                                   ...      ...  \n",
       "116372               really like many movie kdramas watch     True  \n",
       "116373               love netflix always enjoy time using     True  \n",
       "116374                           sound quality slow movie     True  \n",
       "116375  rate expensive bcos see netflix sunday charged...     True  \n",
       "116376           app awesome english movie series tv show     True  \n",
       "\n",
       "[116377 rows x 6 columns]"
      ]
     },
     "execution_count": 5,
     "metadata": {},
     "output_type": "execute_result"
    }
   ],
   "source": [
    "import re\n",
    "import string\n",
    "import nltk\n",
    "import emoji\n",
    "from nltk.corpus import stopwords\n",
    "from nltk.tokenize import word_tokenize\n",
    "from nltk.stem import WordNetLemmatizer\n",
    "\n",
    "# Download necessary NLTK resources (run once)\n",
    "nltk.download('stopwords')\n",
    "nltk.download('punkt')\n",
    "nltk.download('wordnet')\n",
    "\n",
    "def clean_text(text):\n",
    "    if not isinstance(text, str):  # Handle non-string entries gracefully\n",
    "        return \"\"\n",
    "    \n",
    "    # Convert to lowercase\n",
    "    text = text.lower()\n",
    "\n",
    "    # Remove URLs\n",
    "    text = re.sub(r'http\\S+|www\\S+', '', text)\n",
    "\n",
    "    # Remove emojis\n",
    "    text = emoji.replace_emoji(text, replace='')\n",
    "\n",
    "    # Remove punctuation\n",
    "    text = text.translate(str.maketrans('', '', string.punctuation))\n",
    "\n",
    "    # Tokenize text\n",
    "    tokens = word_tokenize(text)\n",
    "\n",
    "    # Remove stopwords\n",
    "    stop_words = set(stopwords.words('english'))\n",
    "    tokens = [word for word in tokens if word not in stop_words]\n",
    "\n",
    "    # Lemmatize tokens\n",
    "    lemmatizer = WordNetLemmatizer()\n",
    "    tokens = [lemmatizer.lemmatize(word) for word in tokens]\n",
    "\n",
    "    # Join back into string\n",
    "    cleaned_text = ' '.join(tokens)\n",
    "\n",
    "    return cleaned_text\n",
    "\n",
    "# Apply text cleaning\n",
    "df['cleaned_text'] = df['cleaned_text'].apply(clean_text)\n",
    "\n",
    "# Remove rows with fewer than 3 words\n",
    "df = df[df['cleaned_text'].apply(lambda x: len(x.split()) >= 3)]\n",
    "\n",
    "# Reset index\n",
    "df.reset_index(drop=True, inplace=True)\n",
    "\n",
    "df\n"
   ]
  },
  {
   "cell_type": "code",
   "execution_count": 9,
   "id": "918aae55",
   "metadata": {},
   "outputs": [
    {
     "data": {
      "image/png": "[encoded data removed]",
      "text/plain": [
       "<Figure size 720x360 with 1 Axes>"
      ]
     },
     "metadata": {
      "needs_background": "light"
     },
     "output_type": "display_data"
    }
   ],
   "source": [
    "# data visulaization for the no. of content each year\n",
    "df['date'] = pd.to_datetime(df['date'])\n",
    "plt.figure(figsize=(10,5))\n",
    "sns.countplot(x=df['date'].dt.year, palette='viridis')\n",
    "plt.title('No. of Comment/Year')\n",
    "plt.xlabel('Year')\n",
    "plt.ylabel('No. of Comment')\n",
    "plt.show()\n"
   ]
  },
  {
   "cell_type": "code",
   "execution_count": 10,
   "id": "d307e7b9",
   "metadata": {},
   "outputs": [
    {
     "data": {
      "text/plain": [
       "date\n",
       "2020    28540\n",
       "2024    20389\n",
       "2021    17711\n",
       "2019    16869\n",
       "2022    15093\n",
       "2023    12763\n",
       "2018     4800\n",
       "2025      212\n",
       "Name: count, dtype: int64"
      ]
     },
     "execution_count": 10,
     "metadata": {},
     "output_type": "execute_result"
    }
   ],
   "source": [
    "df['date'].dt.year.value_counts()"
   ]
  },
  {
   "cell_type": "code",
   "execution_count": 11,
   "id": "41e94db9",
   "metadata": {},
   "outputs": [],
   "source": [
    "df_2018 = df[df['date'].dt.year == 2018]"
   ]
  },
  {
   "cell_type": "code",
   "execution_count": 17,
   "id": "f0cd0976",
   "metadata": {},
   "outputs": [
    {
     "name": "stdout",
     "output_type": "stream",
     "text": [
      "X_train shape: (1200, 6), X_test shape: (3600, 6)\n"
     ]
    }
   ],
   "source": [
    "from sklearn.model_selection import train_test_split\n",
    "\n",
    "X = df_2018\n",
    "X_train, X_test = train_test_split(X, test_size=0.75, random_state=42)\n",
    "print(f'X_train shape: {X_train.shape}, X_test shape: {X_test.shape}')"
   ]
  },
  {
   "cell_type": "code",
   "execution_count": 18,
   "id": "80730f9b",
   "metadata": {},
   "outputs": [],
   "source": [
    "X_train.to_csv('comment_classification_train.csv', index=False)"
   ]
  },
  {
   "cell_type": "code",
   "execution_count": 19,
   "id": "3a28d234",
   "metadata": {},
   "outputs": [],
   "source": [
    "X_test.to_csv('comment_classification_test.csv', index=False)"
   ]
  },
  {
   "cell_type": "code",
   "execution_count": null,
   "id": "2ff91ea8",
   "metadata": {},
   "outputs": [],
   "source": []
  }
 ],
 "metadata": {
  "kernelspec": {
   "display_name": "Python 3",
   "language": "python",
   "name": "python3"
  },
  "language_info": {
   "codemirror_mode": {
    "name": "ipython",
    "version": 3
   },
   "file_extension": ".py",
   "mimetype": "text/x-python",
   "name": "python",
   "nbconvert_exporter": "python",
   "pygments_lexer": "ipython3",
   "version": "3.10.0"
  }
 },
 "nbformat": 4,
 "nbformat_minor": 5
}
